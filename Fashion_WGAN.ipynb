{
  "nbformat": 4,
  "nbformat_minor": 0,
  "metadata": {
    "accelerator": "GPU",
    "colab": {
      "name": "Fashion WGAN",
      "provenance": [],
      "authorship_tag": "ABX9TyNmEEKPb8hA67xVCHl14mMp",
      "include_colab_link": true
    },
    "kernelspec": {
      "display_name": "Python 3",
      "name": "python3"
    }
  },
  "cells": [
    {
      "cell_type": "markdown",
      "metadata": {
        "id": "view-in-github",
        "colab_type": "text"
      },
      "source": [
        "<a href=\"https://colab.research.google.com/github/ThomasL642/Generative-Adversarial-Networks/blob/main/Fashion_WGAN.ipynb\" target=\"_parent\"><img src=\"https://colab.research.google.com/assets/colab-badge.svg\" alt=\"Open In Colab\"/></a>"
      ]
    },
    {
      "cell_type": "code",
      "metadata": {
        "id": "fkVHjjRfJ7Dg"
      },
      "source": [
        "#this was made leveraging a tutorial from keras\n",
        "import numpy as np\n",
        "import tensorflow as tf\n",
        "from tensorflow import keras\n",
        "from tensorflow.keras import layers\n",
        "import tqdm\n",
        "import os\n",
        "import cv2\n",
        "import matplotlib.pyplot as plt\n",
        "import tensorflow as tf\n",
        "import numpy as np\n",
        "from glob import glob\n",
        "import keras"
      ],
      "execution_count": null,
      "outputs": []
    },
    {
      "cell_type": "code",
      "metadata": {
        "colab": {
          "base_uri": "https://localhost:8080/"
        },
        "id": "mzGtbSswKQk2",
        "outputId": "4aaad607-4c17-4594-914f-afa512789720"
      },
      "source": [
        "IMG_SHAPE = (28, 28, 1)\n",
        "BATCH_SIZE = 512\n",
        "noise_dim = 128\n",
        "\n",
        "fashion_mnist = keras.datasets.fashion_mnist\n",
        "(train_images, train_labels), (test_images, test_labels) = fashion_mnist.load_data()\n",
        "print(f\"Number of examples:  {len(train_images)}\")\n",
        "print(f\"Shape of the images: {train_images.shape[1:]}\")\n",
        "\n",
        "train_images = train_images.reshape(train_images.shape[0], *IMG_SHAPE).astype(\"float32\")\n",
        "train_images = (train_images - 127.5) / 127.5"
      ],
      "execution_count": null,
      "outputs": [
        {
          "output_type": "stream",
          "text": [
            "Downloading data from https://storage.googleapis.com/tensorflow/tf-keras-datasets/train-labels-idx1-ubyte.gz\n",
            "32768/29515 [=================================] - 0s 0us/step\n",
            "Downloading data from https://storage.googleapis.com/tensorflow/tf-keras-datasets/train-images-idx3-ubyte.gz\n",
            "26427392/26421880 [==============================] - 0s 0us/step\n",
            "Downloading data from https://storage.googleapis.com/tensorflow/tf-keras-datasets/t10k-labels-idx1-ubyte.gz\n",
            "8192/5148 [===============================================] - 0s 0us/step\n",
            "Downloading data from https://storage.googleapis.com/tensorflow/tf-keras-datasets/t10k-images-idx3-ubyte.gz\n",
            "4423680/4422102 [==============================] - 0s 0us/step\n",
            "Number of examples:  60000\n",
            "Shape of the images: (28, 28)\n"
          ],
          "name": "stdout"
        }
      ]
    },
    {
      "cell_type": "code",
      "metadata": {
        "colab": {
          "base_uri": "https://localhost:8080/"
        },
        "id": "jrj1y9e-Kc48",
        "outputId": "5764eec5-83ee-4929-80c8-bba5cacd985a"
      },
      "source": [
        "def conv_l(\n",
        "    x,\n",
        "    filters,\n",
        "    activation,\n",
        "    kernel_size=(3,3),\n",
        "    strides=(1,1),\n",
        "    padding=\"same\",\n",
        "    use_bias=True,\n",
        "    use_bn=False,\n",
        "    use_dropout=False,\n",
        "    drop_value=0.5,\n",
        "):\n",
        "    x = layers.Conv2D(\n",
        "        filters, kernel_size, strides=strides, padding=padding, use_bias=use_bias\n",
        "    )(x)\n",
        "    if use_bn:\n",
        "      x =layers.BatchNormalization()(x)\n",
        "    x = activation(x)\n",
        "    if use_dropout:\n",
        "      x = layers.Dropout(drop_value)(x)\n",
        "    return x\n",
        "\n",
        "def get_discriminator_model():\n",
        "  img_input = layers.Input(shape=IMG_SHAPE)\n",
        "  x = layers.ZeroPadding2D((2, 2))(img_input)\n",
        "  x = conv_l(\n",
        "      x,\n",
        "      64,\n",
        "      kernel_size = (5,5),\n",
        "      strides=(2,2),\n",
        "      use_bn=False,\n",
        "      use_bias=True,\n",
        "      activation=layers.LeakyReLU(0.2),\n",
        "      use_dropout=False,\n",
        "      drop_value=0.3,\n",
        "  )\n",
        "  x = conv_l(\n",
        "      x,\n",
        "      128,\n",
        "      kernel_size = (5,5),\n",
        "      strides=(2,2),\n",
        "      use_bn=False,\n",
        "      activation=layers.LeakyReLU(0.2),\n",
        "      use_bias=True,\n",
        "      use_dropout=True,\n",
        "      drop_value=0.3,\n",
        "  )\n",
        "  x = conv_l(\n",
        "      x,\n",
        "      256,\n",
        "      kernel_size = (5,5),\n",
        "      strides=(2,2),\n",
        "      use_bn=False,\n",
        "      activation=layers.LeakyReLU(0.2),\n",
        "      use_bias=True,\n",
        "      use_dropout=True,\n",
        "      drop_value=0.3,\n",
        "  )\n",
        "  x = conv_l(\n",
        "      x,\n",
        "      512,\n",
        "      kernel_size = (5,5),\n",
        "      strides=(2,2),\n",
        "      use_bn=False,\n",
        "      activation=layers.LeakyReLU(0.2),\n",
        "      use_bias=True,\n",
        "      use_dropout=False,\n",
        "      drop_value=0.3,\n",
        "  )\n",
        "    \n",
        "  x = layers.Flatten()(x)\n",
        "  x = layers.Dropout(0.2)(x)\n",
        "  x = layers.Dense(1)(x)\n",
        "\n",
        "  d_model = keras.models.Model(img_input, x, name=\"discriminator\")\n",
        "  return d_model\n",
        "\n",
        "d_model = get_discriminator_model()\n",
        "d_model.summary()"
      ],
      "execution_count": null,
      "outputs": [
        {
          "output_type": "stream",
          "text": [
            "Model: \"discriminator\"\n",
            "_________________________________________________________________\n",
            "Layer (type)                 Output Shape              Param #   \n",
            "=================================================================\n",
            "input_1 (InputLayer)         [(None, 28, 28, 1)]       0         \n",
            "_________________________________________________________________\n",
            "zero_padding2d (ZeroPadding2 (None, 32, 32, 1)         0         \n",
            "_________________________________________________________________\n",
            "conv2d (Conv2D)              (None, 16, 16, 64)        1664      \n",
            "_________________________________________________________________\n",
            "leaky_re_lu (LeakyReLU)      (None, 16, 16, 64)        0         \n",
            "_________________________________________________________________\n",
            "conv2d_1 (Conv2D)            (None, 8, 8, 128)         204928    \n",
            "_________________________________________________________________\n",
            "leaky_re_lu_1 (LeakyReLU)    (None, 8, 8, 128)         0         \n",
            "_________________________________________________________________\n",
            "dropout (Dropout)            (None, 8, 8, 128)         0         \n",
            "_________________________________________________________________\n",
            "conv2d_2 (Conv2D)            (None, 4, 4, 256)         819456    \n",
            "_________________________________________________________________\n",
            "leaky_re_lu_2 (LeakyReLU)    (None, 4, 4, 256)         0         \n",
            "_________________________________________________________________\n",
            "dropout_1 (Dropout)          (None, 4, 4, 256)         0         \n",
            "_________________________________________________________________\n",
            "conv2d_3 (Conv2D)            (None, 2, 2, 512)         3277312   \n",
            "_________________________________________________________________\n",
            "leaky_re_lu_3 (LeakyReLU)    (None, 2, 2, 512)         0         \n",
            "_________________________________________________________________\n",
            "flatten (Flatten)            (None, 2048)              0         \n",
            "_________________________________________________________________\n",
            "dropout_2 (Dropout)          (None, 2048)              0         \n",
            "_________________________________________________________________\n",
            "dense (Dense)                (None, 1)                 2049      \n",
            "=================================================================\n",
            "Total params: 4,305,409\n",
            "Trainable params: 4,305,409\n",
            "Non-trainable params: 0\n",
            "_________________________________________________________________\n"
          ],
          "name": "stdout"
        }
      ]
    },
    {
      "cell_type": "code",
      "metadata": {
        "colab": {
          "base_uri": "https://localhost:8080/"
        },
        "id": "DHCcGUkiWKWj",
        "outputId": "4fc6590e-8c99-4f39-c516-1184f38056ce"
      },
      "source": [
        "def upsample_block(\n",
        "    x,\n",
        "    filters,\n",
        "    activation,\n",
        "    kernel_size=(3,3),\n",
        "    strides=(1,1),\n",
        "    up_size=(2,2),\n",
        "    padding=\"same\",\n",
        "    use_bn=False,\n",
        "    use_bias=True,\n",
        "    use_dropout=False,\n",
        "    drop_value=0.3,\n",
        "):\n",
        "    x = layers.UpSampling2D(up_size)(x)\n",
        "    x = layers.Conv2D(\n",
        "        filters, kernel_size, strides=strides, padding=padding, use_bias=use_bias\n",
        "    )(x)\n",
        "\n",
        "    if use_bn:\n",
        "      x = layers.BatchNormalization()(x)\n",
        "\n",
        "    if activation:\n",
        "      x = activation(x)\n",
        "    if use_dropout:\n",
        "      x = layers.Dropout(drop_value)(x)\n",
        "    return x\n",
        "\n",
        "def get_generator_model():\n",
        "  noise = layers.Input(shape=(noise_dim,))\n",
        "  x = layers.Dense(4 * 4 * 256, use_bias=False)(noise)\n",
        "  x = layers.BatchNormalization()(x)\n",
        "  x = layers.LeakyReLU(0.2)(x)\n",
        "\n",
        "  x = layers.Reshape((4, 4, 256))(x)\n",
        "  x = upsample_block(\n",
        "      x,\n",
        "      128,\n",
        "      layers.LeakyReLU(0.2),\n",
        "      strides=(1, 1),\n",
        "      use_bias = False,\n",
        "      use_bn=True,\n",
        "      padding=\"same\",\n",
        "      use_dropout=False,\n",
        "  )\n",
        "  x = upsample_block(\n",
        "      x,\n",
        "      64,\n",
        "      layers.LeakyReLU(0.2),\n",
        "      strides=(1,1),\n",
        "      use_bias=False,\n",
        "      use_bn=True,\n",
        "      padding=\"same\",\n",
        "      use_dropout=False,\n",
        "  )\n",
        "\n",
        "  x = upsample_block(\n",
        "      x, 1, layers.Activation(\"tanh\"), strides=(1,1), use_bias=False, use_bn=True\n",
        "  )\n",
        "  x=layers.Cropping2D((2,2))(x)\n",
        "\n",
        "  g_model = keras.models.Model(noise, x, name=\"generator\")\n",
        "  return g_model\n",
        "\n",
        "g_model = get_generator_model()\n",
        "g_model.summary()"
      ],
      "execution_count": null,
      "outputs": [
        {
          "output_type": "stream",
          "text": [
            "Model: \"generator\"\n",
            "_________________________________________________________________\n",
            "Layer (type)                 Output Shape              Param #   \n",
            "=================================================================\n",
            "input_2 (InputLayer)         [(None, 128)]             0         \n",
            "_________________________________________________________________\n",
            "dense_1 (Dense)              (None, 4096)              524288    \n",
            "_________________________________________________________________\n",
            "batch_normalization (BatchNo (None, 4096)              16384     \n",
            "_________________________________________________________________\n",
            "leaky_re_lu_4 (LeakyReLU)    (None, 4096)              0         \n",
            "_________________________________________________________________\n",
            "reshape (Reshape)            (None, 4, 4, 256)         0         \n",
            "_________________________________________________________________\n",
            "up_sampling2d (UpSampling2D) (None, 8, 8, 256)         0         \n",
            "_________________________________________________________________\n",
            "conv2d_4 (Conv2D)            (None, 8, 8, 128)         294912    \n",
            "_________________________________________________________________\n",
            "batch_normalization_1 (Batch (None, 8, 8, 128)         512       \n",
            "_________________________________________________________________\n",
            "leaky_re_lu_5 (LeakyReLU)    (None, 8, 8, 128)         0         \n",
            "_________________________________________________________________\n",
            "up_sampling2d_1 (UpSampling2 (None, 16, 16, 128)       0         \n",
            "_________________________________________________________________\n",
            "conv2d_5 (Conv2D)            (None, 16, 16, 64)        73728     \n",
            "_________________________________________________________________\n",
            "batch_normalization_2 (Batch (None, 16, 16, 64)        256       \n",
            "_________________________________________________________________\n",
            "leaky_re_lu_6 (LeakyReLU)    (None, 16, 16, 64)        0         \n",
            "_________________________________________________________________\n",
            "up_sampling2d_2 (UpSampling2 (None, 32, 32, 64)        0         \n",
            "_________________________________________________________________\n",
            "conv2d_6 (Conv2D)            (None, 32, 32, 1)         576       \n",
            "_________________________________________________________________\n",
            "batch_normalization_3 (Batch (None, 32, 32, 1)         4         \n",
            "_________________________________________________________________\n",
            "activation (Activation)      (None, 32, 32, 1)         0         \n",
            "_________________________________________________________________\n",
            "cropping2d (Cropping2D)      (None, 28, 28, 1)         0         \n",
            "=================================================================\n",
            "Total params: 910,660\n",
            "Trainable params: 902,082\n",
            "Non-trainable params: 8,578\n",
            "_________________________________________________________________\n"
          ],
          "name": "stdout"
        }
      ]
    },
    {
      "cell_type": "code",
      "metadata": {
        "id": "yEA27GcsdA-f"
      },
      "source": [
        "class WGAN(keras.Model):\n",
        "  def __init__(\n",
        "      self,\n",
        "      discriminator,\n",
        "      generator,\n",
        "      latent_dim,\n",
        "      discriminator_extra_steps=3,\n",
        "      gp_weight=10.0,\n",
        "\n",
        "  ):\n",
        "      super(WGAN, self).__init__()\n",
        "      self.discriminator = discriminator\n",
        "      self.generator = generator\n",
        "      self.latent_dim = latent_dim\n",
        "      self.d_steps = discriminator_extra_steps\n",
        "      self.gp_weight = gp_weight\n",
        "    \n",
        "  def compile(self, d_optimizer, g_optimizer, d_loss_fn, g_loss_fn):\n",
        "    super(WGAN, self).compile()\n",
        "    self.d_optimizer = d_optimizer\n",
        "    self.g_optimizer = g_optimizer\n",
        "    self.d_loss_fn = d_loss_fn\n",
        "    self.g_loss_fn = g_loss_fn\n",
        "\n",
        "\n",
        "  def gradient_penalty(self, batch_size, real_images, fake_images):\n",
        "    alpha = tf.random.normal([batch_size, 1, 1, 1], 0.0, 1.0)\n",
        "    diff = fake_images - real_images\n",
        "    interpolated = real_images + alpha * diff\n",
        "\n",
        "    with tf.GradientTape() as gp_tape:\n",
        "      gp_tape.watch(interpolated)\n",
        "      pred = self.discriminator(interpolated, training=True)\n",
        "      \n",
        "    grads = gp_tape.gradient(pred, [interpolated])[0]\n",
        "\n",
        "    norm = tf.sqrt(tf.reduce_sum(tf.square(grads), axis=[1, 2, 3]))\n",
        "    gp = tf.reduce_mean((norm - 1.0) ** 2)\n",
        "    return gp\n",
        "\n",
        "  def train_step(self, real_images):\n",
        "    if isinstance(real_images, tuple):\n",
        "      real_images = real_images[0]\n",
        "    batch_size = tf.shape(real_images)[0]\n",
        "\n",
        "    for i in range(self.d_steps):\n",
        "      random_latent_vectors = tf.random.normal(\n",
        "          shape=(batch_size, self.latent_dim)\n",
        "      )\n",
        "      with tf.GradientTape() as tape:\n",
        "\n",
        "        fake_images = self.generator(random_latent_vectors, training=True)\n",
        "\n",
        "        fake_logits = self.discriminator(fake_images, training=True)\n",
        "        real_logits = self.discriminator(real_images, training=True)\n",
        "\n",
        "        d_cost = self.d_loss_fn(real_img=real_logits, fake_img=fake_logits)\n",
        "\n",
        "        gp = self.gradient_penalty(batch_size, real_images, fake_images)\n",
        "\n",
        "        d_loss = d_cost + gp * self.gp_weight\n",
        "\n",
        "      d_gradient = tape.gradient(d_loss, self.discriminator.trainable_variables)\n",
        "      self.d_optimizer.apply_gradients(\n",
        "          zip(d_gradient, self.discriminator.trainable_variables)\n",
        "      )\n",
        "\n",
        "      random_latent_vectors = tf.random.normal(shape=(batch_size, self.latent_dim))\n",
        "      with tf.GradientTape() as tape:\n",
        "        generated_images = self.generator(random_latent_vectors, training=True)\n",
        "        gen_img_logits = self.discriminator(generated_images, training=True)\n",
        "        g_loss = self.g_loss_fn(gen_img_logits)\n",
        "\n",
        "      gen_gradient = tape.gradient(g_loss, self.generator.trainable_variables)\n",
        "      self.g_optimizer.apply_gradients(\n",
        "          zip(gen_gradient, self.generator.trainable_variables)\n",
        "      )\n",
        "\n",
        "      return {\"d_loss\": d_loss, \"g_loss\": g_loss}"
      ],
      "execution_count": null,
      "outputs": []
    },
    {
      "cell_type": "code",
      "metadata": {
        "id": "cfKNvPeTkjIN"
      },
      "source": [
        "class GANMonitor(keras.callbacks.Callback):\n",
        "  def __init__(self, num_img=6, latent_dim=128):\n",
        "    self.num_img = num_img\n",
        "    self.latent_dim = latent_dim\n",
        "\n",
        "  def on_epoch_end(self, epoch, logs=None):\n",
        "    random_latent_vectors = tf.random.normal(shape=(self.num_img, self.latent_dim))\n",
        "    generated_images = self.model.generator(random_latent_vectors)\n",
        "    generated_images = (generated_images * 127.5) + 127.5\n",
        "\n",
        "    for i in range(self.num_img):\n",
        "      img = generated_images[i].numpy()\n",
        "      img = keras.preprocessing.image.array_to_img(img)\n",
        "      img.save(\"generated_img_{i}_{epoch}.png\". format(i=i, epoch=epoch))"
      ],
      "execution_count": null,
      "outputs": []
    },
    {
      "cell_type": "code",
      "metadata": {
        "colab": {
          "base_uri": "https://localhost:8080/"
        },
        "id": "T-2cxsCynPnZ",
        "outputId": "cb41e872-efd8-4443-aa8a-767571e95e32"
      },
      "source": [
        "generator_optimizer = keras.optimizers.Adam(\n",
        "    learning_rate=0.0002, beta_1=0.5, beta_2=0.9\n",
        ")\n",
        "\n",
        "discriminator_optimizer = keras.optimizers.Adam(\n",
        "    learning_rate=0.0002, beta_1=0.5, beta_2=0.9\n",
        ")\n",
        "\n",
        "def discriminator_loss(real_img, fake_img):\n",
        "  real_loss = tf.reduce_mean(real_img)\n",
        "  fake_loss = tf.reduce_mean(fake_img)\n",
        "  return fake_loss - real_loss\n",
        "\n",
        "def generator_loss(fake_img):\n",
        "  return -tf.reduce_mean(fake_img)\n",
        "\n",
        "epochs = 20\n",
        "\n",
        "cbk = GANMonitor(num_img=3, latent_dim=noise_dim)\n",
        "\n",
        "wgan = WGAN(\n",
        "    discriminator= d_model,\n",
        "    generator = g_model,\n",
        "    latent_dim = noise_dim,\n",
        "    discriminator_extra_steps=3,\n",
        ")\n",
        "\n",
        "wgan.compile(\n",
        "    d_optimizer = discriminator_optimizer,\n",
        "    g_optimizer = generator_optimizer,\n",
        "    g_loss_fn = generator_loss,\n",
        "    d_loss_fn = discriminator_loss,\n",
        ")\n",
        "\n",
        "wgan.fit(train_images, batch_size=BATCH_SIZE, epochs=epochs, callbacks=[cbk])"
      ],
      "execution_count": null,
      "outputs": [
        {
          "output_type": "stream",
          "text": [
            "Epoch 1/20\n",
            "118/118 [==============================] - 69s 505ms/step - d_loss: -5.3107 - g_loss: -15.8937\n",
            "Epoch 2/20\n",
            "118/118 [==============================] - 66s 560ms/step - d_loss: -5.6852 - g_loss: -15.3504\n",
            "Epoch 3/20\n",
            "118/118 [==============================] - 65s 555ms/step - d_loss: -5.0538 - g_loss: -13.8513\n",
            "Epoch 4/20\n",
            "118/118 [==============================] - 66s 556ms/step - d_loss: -4.6871 - g_loss: -10.4406\n",
            "Epoch 5/20\n",
            "118/118 [==============================] - 66s 559ms/step - d_loss: -4.3971 - g_loss: -8.7360\n",
            "Epoch 6/20\n",
            "118/118 [==============================] - 66s 557ms/step - d_loss: -3.9295 - g_loss: -8.6651\n",
            "Epoch 7/20\n",
            "118/118 [==============================] - 66s 556ms/step - d_loss: -3.5833 - g_loss: -8.1890\n",
            "Epoch 8/20\n",
            "118/118 [==============================] - 66s 556ms/step - d_loss: -3.2504 - g_loss: -7.2864\n",
            "Epoch 9/20\n",
            "118/118 [==============================] - 66s 555ms/step - d_loss: -3.0044 - g_loss: -6.3626\n",
            "Epoch 10/20\n",
            "118/118 [==============================] - 66s 556ms/step - d_loss: -2.7660 - g_loss: -5.5141\n",
            "Epoch 11/20\n",
            "118/118 [==============================] - 66s 555ms/step - d_loss: -2.5932 - g_loss: -5.6512\n",
            "Epoch 12/20\n",
            "118/118 [==============================] - 66s 555ms/step - d_loss: -2.4117 - g_loss: -5.3749\n",
            "Epoch 13/20\n",
            "118/118 [==============================] - 66s 556ms/step - d_loss: -2.2859 - g_loss: -4.9804\n",
            "Epoch 14/20\n",
            "118/118 [==============================] - 66s 556ms/step - d_loss: -2.1503 - g_loss: -4.8858\n",
            "Epoch 15/20\n",
            "118/118 [==============================] - 66s 558ms/step - d_loss: -2.0336 - g_loss: -4.5379\n",
            "Epoch 16/20\n",
            "118/118 [==============================] - 66s 557ms/step - d_loss: -1.9125 - g_loss: -3.9562\n",
            "Epoch 17/20\n",
            "118/118 [==============================] - 66s 557ms/step - d_loss: -1.7985 - g_loss: -4.2310\n",
            "Epoch 18/20\n",
            "118/118 [==============================] - 66s 557ms/step - d_loss: -1.7204 - g_loss: -4.4053\n",
            "Epoch 19/20\n",
            "118/118 [==============================] - 66s 557ms/step - d_loss: -1.6467 - g_loss: -3.8495\n",
            "Epoch 20/20\n",
            "118/118 [==============================] - 66s 556ms/step - d_loss: -1.5726 - g_loss: -3.6693\n"
          ],
          "name": "stdout"
        },
        {
          "output_type": "execute_result",
          "data": {
            "text/plain": [
              "<tensorflow.python.keras.callbacks.History at 0x7f148c089d68>"
            ]
          },
          "metadata": {
            "tags": []
          },
          "execution_count": 7
        }
      ]
    },
    {
      "cell_type": "code",
      "metadata": {
        "id": "7DrEKURco0NJ",
        "colab": {
          "base_uri": "https://localhost:8080/",
          "height": 101
        },
        "outputId": "c549487d-06fd-4238-e25d-d585bfbcc012"
      },
      "source": [
        "from IPython.display import Image, display\n",
        "\n",
        "display(Image(\"generated_img_0_19.png\"))\n",
        "display(Image(\"generated_img_1_19.png\"))\n",
        "display(Image(\"generated_img_2_19.png\"))"
      ],
      "execution_count": null,
      "outputs": [
        {
          "output_type": "display_data",
          "data": {
            "image/png": "[encoded data removed]",
            "text/plain": [
              "<IPython.core.display.Image object>"
            ]
          },
          "metadata": {
            "tags": []
          }
        },
        {
          "output_type": "display_data",
          "data": {
            "image/png": "[encoded data removed]",
            "text/plain": [
              "<IPython.core.display.Image object>"
            ]
          },
          "metadata": {
            "tags": []
          }
        },
        {
          "output_type": "display_data",
          "data": {
            "image/png": "[encoded data removed]",
            "text/plain": [
              "<IPython.core.display.Image object>"
            ]
          },
          "metadata": {
            "tags": []
          }
        }
      ]
    }
  ]
}