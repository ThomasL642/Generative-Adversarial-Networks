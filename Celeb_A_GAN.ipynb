{
  "nbformat": 4,
  "nbformat_minor": 0,
  "metadata": {
    "accelerator": "GPU",
    "colab": {
      "name": "Celeb_Gan",
      "provenance": [],
      "collapsed_sections": [],
      "include_colab_link": true
    },
    "kernelspec": {
      "display_name": "Python 3",
      "name": "python3"
    }
  },
  "cells": [
    {
      "cell_type": "markdown",
      "metadata": {
        "id": "view-in-github",
        "colab_type": "text"
      },
      "source": [
        "<a href=\"https://colab.research.google.com/github/ThomasL642/Generative-Adversarial-Networks/blob/main/Celeb_A_GAN.ipynb\" target=\"_parent\"><img src=\"https://colab.research.google.com/assets/colab-badge.svg\" alt=\"Open In Colab\"/></a>"
      ]
    },
    {
      "cell_type": "code",
      "metadata": {
        "colab": {
          "base_uri": "https://localhost:8080/"
        },
        "id": "0m3CK3GRssWk",
        "outputId": "269af64c-4c1a-4f2d-d63f-55a6087ac1f8"
      },
      "source": [
        "from google.colab import drive\n",
        "drive.mount('/content/drive')"
      ],
      "execution_count": null,
      "outputs": [
        {
          "output_type": "stream",
          "text": [
            "Mounted at /content/drive\n"
          ],
          "name": "stdout"
        }
      ]
    },
    {
      "cell_type": "code",
      "metadata": {
        "id": "pn1IkDmPvczJ"
      },
      "source": [
        "import tqdm\r\n",
        "import os\r\n",
        "import cv2\r\n",
        "import matplotlib.pyplot as plt\r\n",
        "import tensorflow as tf\r\n",
        "import numpy as np\r\n",
        "from glob import glob\r\n",
        "import keras\r\n",
        "from keras.optimizers import Adam\r\n",
        "from keras.layers import Input\r\n",
        "from keras.models import Model, Sequential\r\n",
        "from tensorflow.keras.layers import Dense, Dropout, Reshape, Flatten, Cropping2D, Maximum\r\n",
        "from keras.layers.advanced_activations import LeakyReLU\r\n",
        "from keras.layers.normalization import BatchNormalization\r\n",
        "from keras import initializers\r\n",
        "from keras.layers.convolutional import Conv2DTranspose, Conv2D"
      ],
      "execution_count": null,
      "outputs": []
    },
    {
      "cell_type": "code",
      "metadata": {
        "id": "Wk6NIQmwbJ1S"
      },
      "source": [
        "data = np.load('/content/drive/MyDrive/Colab Notebooks/DATA/CelebANumpy.npy')"
      ],
      "execution_count": null,
      "outputs": []
    },
    {
      "cell_type": "code",
      "metadata": {
        "id": "EgMOlhEDpzMu",
        "colab": {
          "base_uri": "https://localhost:8080/"
        },
        "outputId": "caa4d6a2-82e6-4d57-ddbc-ba0205756d62"
      },
      "source": [
        "print(len(data))"
      ],
      "execution_count": null,
      "outputs": [
        {
          "output_type": "stream",
          "text": [
            "10000\n"
          ],
          "name": "stdout"
        }
      ]
    },
    {
      "cell_type": "code",
      "metadata": {
        "id": "rLCrW4kGboi5"
      },
      "source": [
        "IMG_WIDTH = 89\r\n",
        "IMG_HEIGHT = 109\r\n",
        "random_dim = 100\r\n",
        "np.random.seed(512)"
      ],
      "execution_count": null,
      "outputs": []
    },
    {
      "cell_type": "code",
      "metadata": {
        "id": "mazExQw8OpGr",
        "colab": {
          "base_uri": "https://localhost:8080/"
        },
        "outputId": "b17446d1-ed59-4187-fe32-7e5998d3986b"
      },
      "source": [
        "x_train = data\r\n",
        "\r\n",
        "print(np.asarray(x_train).shape)"
      ],
      "execution_count": null,
      "outputs": [
        {
          "output_type": "stream",
          "text": [
            "(10000, 109, 89, 3)\n"
          ],
          "name": "stdout"
        }
      ]
    },
    {
      "cell_type": "code",
      "metadata": {
        "id": "ve5N9Twa5Ufp"
      },
      "source": [
        "def get_optimizer():\r\n",
        "  return Adam(lr=0.0002, beta_1=0.5)\r\n",
        "\r\n",
        "def get_generator(optimizer):\r\n",
        "  generator = Sequential()\r\n",
        "\r\n",
        "  generator.add(Dense(14*12*40, input_dim = random_dim,kernel_initializer=initializers.RandomNormal(stddev=0.02)))\r\n",
        "  generator.add(BatchNormalization())\r\n",
        "  generator.add(LeakyReLU())\r\n",
        "\r\n",
        "  generator.add(Reshape((14, 12, 40)))\r\n",
        "\r\n",
        "  generator.add(Conv2DTranspose(256, (3, 3), strides=(1, 1), padding='same'))\r\n",
        "  generator.add(BatchNormalization())\r\n",
        "  generator.add(LeakyReLU())\r\n",
        "\r\n",
        "  generator.add(Conv2DTranspose(128, (3, 3), strides=(2, 2), padding='same'))\r\n",
        "  generator.add(BatchNormalization())\r\n",
        "  generator.add(LeakyReLU())\r\n",
        "\r\n",
        "  generator.add(Conv2DTranspose(64, (3, 3), strides=(2, 2), padding='same'))\r\n",
        "  generator.add(BatchNormalization())\r\n",
        "  generator.add(LeakyReLU())\r\n",
        "\r\n",
        "  generator.add(Conv2DTranspose(3, (3, 3), strides=(2, 2), padding='same', activation='tanh'))\r\n",
        "\r\n",
        "  generator.add(Cropping2D(cropping=((1,2),(3,4))))\r\n",
        "\r\n",
        "  return generator\r\n",
        "\r\n",
        "def get_discriminator(optimizer):\r\n",
        "\r\n",
        "  discriminator = Sequential()\r\n",
        "\r\n",
        "  discriminator.add(Conv2D(64, (5, 5), strides=(2, 2), padding='same', input_shape=(109,89, 3)))\r\n",
        "  discriminator.add(LeakyReLU())\r\n",
        "  discriminator.add(Dropout(0.02))\r\n",
        "  \r\n",
        "  discriminator.add(Conv2D(128, (5, 5), strides=(3, 4), padding='same'))\r\n",
        "  discriminator.add(LeakyReLU())\r\n",
        "  discriminator.add(Dropout(0.02))\r\n",
        "  \r\n",
        "  discriminator.add(Flatten())\r\n",
        "  discriminator.add(Dense(1, activation= \"sigmoid\",))\r\n",
        "  discriminator.compile(loss=\"BinaryCrossentropy\", optimizer=optimizer)\r\n",
        "\r\n",
        "  return discriminator"
      ],
      "execution_count": null,
      "outputs": []
    },
    {
      "cell_type": "code",
      "metadata": {
        "id": "0MPBWfiRQS7l"
      },
      "source": [
        "#print(generator.summary())\r\n",
        "#print(discriminator.summary())"
      ],
      "execution_count": null,
      "outputs": []
    },
    {
      "cell_type": "code",
      "metadata": {
        "id": "QdDKq4qRpdED",
        "colab": {
          "base_uri": "https://localhost:8080/",
          "height": 285
        },
        "outputId": "67057723-57c8-41b9-8ef5-cf72c7b59ef7"
      },
      "source": [
        "generator = get_generator(optimizer='adam')\r\n",
        "\r\n",
        "noise = tf.random.normal([1, 100])\r\n",
        "generated_image = generator(noise, training=False)\r\n",
        "plt.imshow(generated_image[0, :, :, 0])"
      ],
      "execution_count": null,
      "outputs": [
        {
          "output_type": "execute_result",
          "data": {
            "text/plain": [
              "<matplotlib.image.AxesImage at 0x7fb8fe45acc0>"
            ]
          },
          "metadata": {
            "tags": []
          },
          "execution_count": 10
        },
        {
          "output_type": "display_data",
          "data": {
            "image/png": "[encoded data removed]",
            "text/plain": [
              "<Figure size 432x288 with 1 Axes>"
            ]
          },
          "metadata": {
            "tags": [],
            "needs_background": "light"
          }
        }
      ]
    },
    {
      "cell_type": "code",
      "metadata": {
        "id": "kiq235OGOzZp"
      },
      "source": [
        "def get_gan_network(discriminator, random_dim, generator, optimizer):\r\n",
        "  discriminator.trainable = False\r\n",
        "  gan_input = Input(shape=(random_dim,))\r\n",
        "  x = generator(gan_input)\r\n",
        "  gan_output = discriminator(x)\r\n",
        "  gan = Model(inputs=gan_input, outputs=gan_output)\r\n",
        "  gan.compile(loss=\"binary_crossentropy\", optimizer=optimizer)\r\n",
        "  return gan"
      ],
      "execution_count": null,
      "outputs": []
    },
    {
      "cell_type": "code",
      "metadata": {
        "id": "PmAoz0dtO7lY"
      },
      "source": [
        "def plot_generated_images(epoch, generator, examples=100, dim=(10, 10), figsize=(10, 10)):\r\n",
        "  noise = np.random.normal(0, 1, size=[examples, random_dim])\r\n",
        "  generated_images = generator.predict(noise)\r\n",
        "  generated_images = generated_images.reshape(examples, 109, 89, 3)\r\n",
        "  generated_images += 1\r\n",
        "  generated_images /= 2\r\n",
        "\r\n",
        "  plt.figure(figsize=figsize)\r\n",
        "  for i in range(generated_images.shape[0]):\r\n",
        "    plt.subplot(dim[0], dim[1], i+1)\r\n",
        "    plt.imshow(generated_images[i], interpolation=\"nearest\")\r\n",
        "    plt.axis(\"off\")\r\n",
        "  plt.tight_layout()\r\n",
        "  plt.savefig(\"gan_generated_image_epoch_%d.png\" % epoch)"
      ],
      "execution_count": null,
      "outputs": []
    },
    {
      "cell_type": "code",
      "metadata": {
        "id": "12Od7vd1thWB",
        "colab": {
          "base_uri": "https://localhost:8080/"
        },
        "outputId": "c3a67156-799b-457b-b092-a6ab6dc9dc98"
      },
      "source": [
        "print(_)"
      ],
      "execution_count": null,
      "outputs": [
        {
          "output_type": "stream",
          "text": [
            "AxesImage(132.629,36;177.543x217.44)\n"
          ],
          "name": "stdout"
        }
      ]
    },
    {
      "cell_type": "code",
      "metadata": {
        "id": "YjW_j1rj6QFU"
      },
      "source": [
        "from tqdm import tqdm\r\n",
        "def train(epochs=1, batch_size=100):\r\n",
        "  x_train = data\r\n",
        "  batch_count = x_train.shape[0] / batch_size\r\n",
        "  adam = get_optimizer()\r\n",
        "  generator = get_generator(adam)\r\n",
        "  discriminator = get_discriminator(adam)\r\n",
        "  gan = get_gan_network(discriminator, random_dim, generator, adam)\r\n",
        "  #random noise and images\r\n",
        "  for e in range(1, epochs+1):\r\n",
        "    print(\"-\"*15,\"Epoch %d\" % e, \"-\"*15)\r\n",
        "    for _ in tqdm(range(int(batch_count))):\r\n",
        "      noise = np.random.normal(0, 1, size=[batch_size, random_dim])\r\n",
        "      image_batch = x_train[np.random.randint(0, x_train.shape[0], size=batch_size)]\r\n",
        "\r\n",
        "      #generate fake images\r\n",
        "      generated_images = generator.predict(noise)\r\n",
        "      #print(np.asarray(image_batch).shape)\r\n",
        "      #print(np.asarray(generated_image).shape)\r\n",
        "      X = np.concatenate([image_batch, generated_images])\r\n",
        "\r\n",
        "      #labels for fake + real\r\n",
        "      y_dis = np.zeros(2*batch_size)\r\n",
        "      y_dis[:batch_size] = 0.9\r\n",
        "\r\n",
        "      discriminator.trainable = True \r\n",
        "      discriminator.train_on_batch(X, y_dis)\r\n",
        "\r\n",
        "      noise = np.random.normal(0, 1, size=[batch_size, random_dim])\r\n",
        "      y_gen = np.ones(batch_size)\r\n",
        "      discriminator.trainable = False\r\n",
        "      gan.train_on_batch(noise, y_gen)\r\n",
        "\r\n",
        "    if e == 1 or e % 160 == 0:\r\n",
        "      plot_generated_images(e, generator)"
      ],
      "execution_count": null,
      "outputs": []
    },
    {
      "cell_type": "code",
      "metadata": {
        "id": "tEmDu1A8NOTQ"
      },
      "source": [
        "train(1600,100)"
      ],
      "execution_count": null,
      "outputs": []
    }
  ]
}